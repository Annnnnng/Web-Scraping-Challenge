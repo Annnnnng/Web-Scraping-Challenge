{
 "cells": [
  {
   "cell_type": "code",
   "execution_count": 1,
   "id": "301d1b40",
   "metadata": {},
   "outputs": [],
   "source": [
    "import pandas as pd\n",
    "from bs4 import BeautifulSoup\n",
    "import requests\n",
    "from splinter import Browser\n",
    "from selenium import webdriver\n",
    "from webdriver_manager.chrome import ChromeDriverManager"
   ]
  },
  {
   "cell_type": "markdown",
   "id": "24b4a845",
   "metadata": {},
   "source": [
    "## NASA Mars News"
   ]
  },
  {
   "cell_type": "code",
   "execution_count": null,
   "id": "9c491d14",
   "metadata": {},
   "outputs": [],
   "source": [
    "url = \"https://redplanetscience.com/\""
   ]
  },
  {
   "cell_type": "code",
   "execution_count": null,
   "id": "1b3dc3bd",
   "metadata": {},
   "outputs": [],
   "source": [
    "driver = webdriver.Chrome(ChromeDriverManager().install())\n",
    "driver.get(url) "
   ]
  },
  {
   "cell_type": "code",
   "execution_count": null,
   "id": "4d09cbc3",
   "metadata": {},
   "outputs": [],
   "source": [
    "html = driver.page_source"
   ]
  },
  {
   "cell_type": "code",
   "execution_count": null,
   "id": "1a38b880",
   "metadata": {},
   "outputs": [],
   "source": [
    "soup = BeautifulSoup(html,'html.parser')"
   ]
  },
  {
   "cell_type": "code",
   "execution_count": null,
   "id": "d717e042",
   "metadata": {},
   "outputs": [],
   "source": [
    "print(soup.prettify())"
   ]
  },
  {
   "cell_type": "code",
   "execution_count": null,
   "id": "4aed08d8",
   "metadata": {},
   "outputs": [],
   "source": [
    "results = soup.find_all(\"div\", class_=\"list_text\")\n",
    "results"
   ]
  },
  {
   "cell_type": "code",
   "execution_count": null,
   "id": "cf86837e",
   "metadata": {},
   "outputs": [],
   "source": [
    "news_title = soup.find_all(\"div\", class_=\"content_title\")\n",
    "news_title = news_title[0].text\n",
    "news_title"
   ]
  },
  {
   "cell_type": "code",
   "execution_count": null,
   "id": "c423fe69",
   "metadata": {},
   "outputs": [],
   "source": [
    "news_p = soup.find_all(\"div\", class_ = \"article_teaser_body\")\n",
    "news_p = news_p[0].text\n",
    "news_p"
   ]
  },
  {
   "cell_type": "code",
   "execution_count": null,
   "id": "dab54f03",
   "metadata": {},
   "outputs": [],
   "source": [
    "for result in results:\n",
    "    try:\n",
    "    \n",
    "        news_date = result.find(\"div\", class_=\"list_date\").text\n",
    "        news_title = result.find(\"div\", class_=\"content_title\").text\n",
    "        news_p = result.find(\"div\", class_=\"article_teaser_body\").text\n",
    "        \n",
    "        if (news_date and news_title and news_p):    \n",
    "            print(\"------------\")\n",
    "            print(news_date)\n",
    "            print(f\"news_title = {news_title}\")\n",
    "            print(f\"news_p = {news_p}\")\n",
    "            \n",
    "    except AttributeError as e:\n",
    "        print(e)\n",
    "            \n",
    "\n",
    "            \n",
    "   "
   ]
  },
  {
   "cell_type": "code",
   "execution_count": null,
   "id": "08e0a718",
   "metadata": {},
   "outputs": [],
   "source": []
  },
  {
   "cell_type": "markdown",
   "id": "bf5bc4f1",
   "metadata": {},
   "source": [
    "## JPL Mars Space Images - Featured Image"
   ]
  },
  {
   "cell_type": "code",
   "execution_count": null,
   "id": "789d5640",
   "metadata": {},
   "outputs": [],
   "source": [
    "url_image = \"https://spaceimages-mars.com/\""
   ]
  },
  {
   "cell_type": "code",
   "execution_count": null,
   "id": "5bdd52fe",
   "metadata": {},
   "outputs": [],
   "source": [
    "driver = webdriver.Chrome(ChromeDriverManager().install())\n",
    "driver.get(url_image) "
   ]
  },
  {
   "cell_type": "code",
   "execution_count": null,
   "id": "8138ed7f",
   "metadata": {},
   "outputs": [],
   "source": [
    "html_image= driver.page_source"
   ]
  },
  {
   "cell_type": "code",
   "execution_count": null,
   "id": "0bc880ab",
   "metadata": {},
   "outputs": [],
   "source": [
    "soup_image = BeautifulSoup(html_image, \"html.parser\")\n",
    "print(soup_image.prettify())"
   ]
  },
  {
   "cell_type": "code",
   "execution_count": null,
   "id": "b2ef568f",
   "metadata": {},
   "outputs": [],
   "source": [
    "images = soup_image.find_all(\"a\", class_=\"showimg fancybox-thumbs\")\n",
    "href = images[0][\"href\"]\n",
    "featured_image_url = f\"https://spaceimages-mars.com/{href}\"\n",
    "featured_image_url"
   ]
  },
  {
   "cell_type": "code",
   "execution_count": null,
   "id": "89d5486f",
   "metadata": {},
   "outputs": [],
   "source": []
  },
  {
   "cell_type": "markdown",
   "id": "8188cfa1",
   "metadata": {},
   "source": [
    "## Mars Fact"
   ]
  },
  {
   "cell_type": "code",
   "execution_count": 2,
   "id": "e9e8cf0d",
   "metadata": {},
   "outputs": [],
   "source": [
    "url_table = \"https://galaxyfacts-mars.com/\""
   ]
  },
  {
   "cell_type": "code",
   "execution_count": 3,
   "id": "fdfa133a",
   "metadata": {},
   "outputs": [
    {
     "data": {
      "text/plain": [
       "[                         0                1                2\n",
       " 0  Mars - Earth Comparison             Mars            Earth\n",
       " 1                Diameter:         6,779 km        12,742 km\n",
       " 2                    Mass:  6.39 × 10^23 kg  5.97 × 10^24 kg\n",
       " 3                   Moons:                2                1\n",
       " 4       Distance from Sun:   227,943,824 km   149,598,262 km\n",
       " 5          Length of Year:   687 Earth days      365.24 days\n",
       " 6             Temperature:     -87 to -5 °C      -88 to 58°C,\n",
       "                       0                              1\n",
       " 0  Equatorial Diameter:                       6,792 km\n",
       " 1       Polar Diameter:                       6,752 km\n",
       " 2                 Mass:  6.39 × 10^23 kg (0.11 Earths)\n",
       " 3                Moons:          2 ( Phobos & Deimos )\n",
       " 4       Orbit Distance:       227,943,824 km (1.38 AU)\n",
       " 5         Orbit Period:           687 days (1.9 years)\n",
       " 6  Surface Temperature:                   -87 to -5 °C\n",
       " 7         First Record:              2nd millennium BC\n",
       " 8          Recorded By:           Egyptian astronomers]"
      ]
     },
     "execution_count": 3,
     "metadata": {},
     "output_type": "execute_result"
    }
   ],
   "source": [
    "tables = pd.read_html(url_table)\n",
    "tables"
   ]
  },
  {
   "cell_type": "code",
   "execution_count": 5,
   "id": "33d92d7c",
   "metadata": {
    "scrolled": true
   },
   "outputs": [
    {
     "data": {
      "text/html": [
       "<div>\n",
       "<style scoped>\n",
       "    .dataframe tbody tr th:only-of-type {\n",
       "        vertical-align: middle;\n",
       "    }\n",
       "\n",
       "    .dataframe tbody tr th {\n",
       "        vertical-align: top;\n",
       "    }\n",
       "\n",
       "    .dataframe thead th {\n",
       "        text-align: right;\n",
       "    }\n",
       "</style>\n",
       "<table border=\"1\" class=\"dataframe\">\n",
       "  <thead>\n",
       "    <tr style=\"text-align: right;\">\n",
       "      <th></th>\n",
       "      <th>Mars</th>\n",
       "      <th>Earth</th>\n",
       "    </tr>\n",
       "    <tr>\n",
       "      <th>Description</th>\n",
       "      <th></th>\n",
       "      <th></th>\n",
       "    </tr>\n",
       "  </thead>\n",
       "  <tbody>\n",
       "    <tr>\n",
       "      <th>Mars - Earth Comparison</th>\n",
       "      <td>Mars</td>\n",
       "      <td>Earth</td>\n",
       "    </tr>\n",
       "    <tr>\n",
       "      <th>Diameter:</th>\n",
       "      <td>6,779 km</td>\n",
       "      <td>12,742 km</td>\n",
       "    </tr>\n",
       "    <tr>\n",
       "      <th>Mass:</th>\n",
       "      <td>6.39 × 10^23 kg</td>\n",
       "      <td>5.97 × 10^24 kg</td>\n",
       "    </tr>\n",
       "    <tr>\n",
       "      <th>Moons:</th>\n",
       "      <td>2</td>\n",
       "      <td>1</td>\n",
       "    </tr>\n",
       "    <tr>\n",
       "      <th>Distance from Sun:</th>\n",
       "      <td>227,943,824 km</td>\n",
       "      <td>149,598,262 km</td>\n",
       "    </tr>\n",
       "    <tr>\n",
       "      <th>Length of Year:</th>\n",
       "      <td>687 Earth days</td>\n",
       "      <td>365.24 days</td>\n",
       "    </tr>\n",
       "    <tr>\n",
       "      <th>Temperature:</th>\n",
       "      <td>-87 to -5 °C</td>\n",
       "      <td>-88 to 58°C</td>\n",
       "    </tr>\n",
       "  </tbody>\n",
       "</table>\n",
       "</div>"
      ],
      "text/plain": [
       "                                    Mars            Earth\n",
       "Description                                              \n",
       "Mars - Earth Comparison             Mars            Earth\n",
       "Diameter:                       6,779 km        12,742 km\n",
       "Mass:                    6.39 × 10^23 kg  5.97 × 10^24 kg\n",
       "Moons:                                 2                1\n",
       "Distance from Sun:        227,943,824 km   149,598,262 km\n",
       "Length of Year:           687 Earth days      365.24 days\n",
       "Temperature:                -87 to -5 °C      -88 to 58°C"
      ]
     },
     "execution_count": 5,
     "metadata": {},
     "output_type": "execute_result"
    }
   ],
   "source": [
    "df = tables[0]\n",
    "df.columns = [\"Description\", 'Mars', \"Earth\"]\n",
    "mars_table = df.set_index(\"Description\")\n",
    "mars_table"
   ]
  },
  {
   "cell_type": "code",
   "execution_count": null,
   "id": "1de310fb",
   "metadata": {},
   "outputs": [],
   "source": [
    "html_table = df.to_html()\n",
    "html_table"
   ]
  },
  {
   "cell_type": "code",
   "execution_count": null,
   "id": "428b1155",
   "metadata": {},
   "outputs": [],
   "source": [
    "html_table.replace('\\n', '')"
   ]
  },
  {
   "cell_type": "code",
   "execution_count": null,
   "id": "e1536d44",
   "metadata": {},
   "outputs": [],
   "source": [
    "df.to_html('table.html')"
   ]
  },
  {
   "cell_type": "markdown",
   "id": "2eea664c",
   "metadata": {},
   "source": [
    "## Mars Hemispheres"
   ]
  },
  {
   "cell_type": "code",
   "execution_count": null,
   "id": "d7d7307f",
   "metadata": {},
   "outputs": [],
   "source": []
  },
  {
   "cell_type": "code",
   "execution_count": null,
   "id": "597ef641",
   "metadata": {},
   "outputs": [],
   "source": [
    "url_hem = \"https://marshemispheres.com/\""
   ]
  },
  {
   "cell_type": "code",
   "execution_count": null,
   "id": "c3a28efb",
   "metadata": {},
   "outputs": [],
   "source": [
    "driver = webdriver.Chrome(ChromeDriverManager().install())\n",
    "driver.get(url_hem) \n"
   ]
  },
  {
   "cell_type": "code",
   "execution_count": null,
   "id": "a5651215",
   "metadata": {},
   "outputs": [],
   "source": [
    "url_hem= driver.page_source\n",
    "soup_hem = BeautifulSoup(url_hem, \"html.parser\")\n",
    "print(soup_hem.prettify())"
   ]
  },
  {
   "cell_type": "code",
   "execution_count": null,
   "id": "1f1f2071",
   "metadata": {},
   "outputs": [],
   "source": [
    "collapsible_results = soup_hem.find_all(\"div\", class_=\"collapsible results\")\n",
    "\n",
    "titles = collapsible_results[0].find_all(\"h3\")\n",
    "titles"
   ]
  },
  {
   "cell_type": "code",
   "execution_count": null,
   "id": "cbf99dad",
   "metadata": {},
   "outputs": [],
   "source": [
    "# Loop through to find Hemisphere title\n",
    "hem_titles = []\n",
    "\n",
    "for title in titles:\n",
    "    hem_titles.append(title.text)\n",
    "hem_titles    "
   ]
  },
  {
   "cell_type": "code",
   "execution_count": null,
   "id": "88065b7b",
   "metadata": {},
   "outputs": [],
   "source": []
  },
  {
   "cell_type": "code",
   "execution_count": null,
   "id": "f5669e39",
   "metadata": {},
   "outputs": [],
   "source": [
    "image_results = collapsible_results[0].find_all(\"a\")\n",
    "images = image_results[0].find(\"img\")[\"src\"]\n",
    "image_results"
   ]
  },
  {
   "cell_type": "code",
   "execution_count": null,
   "id": "7e2c6706",
   "metadata": {},
   "outputs": [],
   "source": [
    "# Loop through the web page to find url for each full image\n",
    "image_url = []\n",
    "for full_image in image_results:\n",
    "    if (full_image.img):\n",
    "        \n",
    "        img_url = \"https://marshemispheres.com/\" + full_image[\"href\"]\n",
    "        image_url.append(img_url)\n",
    "image_url"
   ]
  },
  {
   "cell_type": "code",
   "execution_count": null,
   "id": "c54fff1d",
   "metadata": {
    "scrolled": true
   },
   "outputs": [],
   "source": [
    "# Loop through the URL above to find the full image url\n",
    "full_image_url = []\n",
    "for img_url in image_url:\n",
    "    driver = webdriver.Chrome(ChromeDriverManager().install())\n",
    "    driver.get(img_url) \n",
    "    link = driver.page_source\n",
    "    soup_image = BeautifulSoup(link, \"html.parser\")\n",
    "    full_image = soup_image.find_all(\"img\", class_=\"wide-image\")\n",
    "    image_link = full_image[0][\"src\"]\n",
    "    img_link = \"https://marshemispheres.com/\" + image_link\n",
    "    full_image_url.append(img_link)\n",
    "        \n",
    "full_image_url     "
   ]
  },
  {
   "cell_type": "code",
   "execution_count": null,
   "id": "e6664b1f",
   "metadata": {},
   "outputs": [],
   "source": [
    "# Append the dictionary with the image url string and the hemisphere title to a list\n",
    "hemisphere_image_urls = []\n",
    "hem_image = zip(hem_titles, full_image_url)\n",
    "\n",
    "for hem_titles, full_image_url in hem_image:\n",
    "    dict = {}\n",
    "    dict[\"title\"] = hem_titles\n",
    "    dict[\"img_url\"] = full_image_url\n",
    "    hemisphere_image_urls.append(dict)\n",
    "    \n",
    "hemisphere_image_urls\n"
   ]
  },
  {
   "cell_type": "code",
   "execution_count": null,
   "id": "fcc2331a",
   "metadata": {},
   "outputs": [],
   "source": []
  },
  {
   "cell_type": "code",
   "execution_count": null,
   "id": "88a88fa2",
   "metadata": {},
   "outputs": [],
   "source": []
  },
  {
   "cell_type": "code",
   "execution_count": null,
   "id": "804828ac",
   "metadata": {},
   "outputs": [],
   "source": []
  },
  {
   "cell_type": "code",
   "execution_count": null,
   "id": "8eede79b",
   "metadata": {},
   "outputs": [],
   "source": []
  }
 ],
 "metadata": {
  "kernelspec": {
   "display_name": "Python 3",
   "language": "python",
   "name": "python3"
  },
  "language_info": {
   "codemirror_mode": {
    "name": "ipython",
    "version": 3
   },
   "file_extension": ".py",
   "mimetype": "text/x-python",
   "name": "python",
   "nbconvert_exporter": "python",
   "pygments_lexer": "ipython3",
   "version": "3.8.8"
  }
 },
 "nbformat": 4,
 "nbformat_minor": 5
}
